{
 "cells": [
  {
   "cell_type": "markdown",
   "metadata": {},
   "source": [
    "# Clojure course"
   ]
  },
  {
   "cell_type": "markdown",
   "metadata": {},
   "source": [
    "# EDN data structure"
   ]
  },
  {
   "cell_type": "markdown",
   "metadata": {},
   "source": [
    "### Link to description of EDN format with examples [https://habr.com/post/178473/][RUS]"
   ]
  },
  {
   "cell_type": "markdown",
   "metadata": {},
   "source": [
    "### EDN home page [https://github.com/edn-format/edn]"
   ]
  },
  {
   "cell_type": "markdown",
   "metadata": {},
   "source": [
    "[{:destination :Vorobyevy-Gory,\n",
    "  :arrival-time \"15.45\",\n",
    "  :available-passengers 3}\n",
    " {:destination :Spartak,\n",
    "  :arrival-time \"15.50\",\n",
    "  :available-passengers 2}\n",
    " {:destination :Dinamo,\n",
    "  :arrival-time \"16.00\",\n",
    "  :available-passengers 1}]"
   ]
  },
  {
   "cell_type": "markdown",
   "metadata": {},
   "source": [
    "# Clojure intro"
   ]
  },
  {
   "cell_type": "markdown",
   "metadata": {},
   "source": [
    "#### Simple example of arithmetic operations (Polish notation) [https://en.wikipedia.org/wiki/Polish_notation]"
   ]
  },
  {
   "cell_type": "markdown",
   "metadata": {},
   "source": [
    "Prefix notation\n",
    "Polish notation (PN), also known as normal Polish notation (NPN), Łukasiewicz notation, Warsaw notation, Polish prefix notation or simply prefix notation, is a mathematical notation in which operators precede their operands, in contrast to (the more common) infix notation (in which operators are placed between operands), as well as to reverse Polish notation (RPN, in which operators follow their operands). It does not need any parentheses as long as each operator has a fixed number of operands. The description \"Polish\" refers to the nationality of logician Jan Łukasiewicz, who invented Polish notation in 1924."
   ]
  },
  {
   "cell_type": "code",
   "execution_count": 2,
   "metadata": {},
   "outputs": [
    {
     "data": {
      "text/plain": [
       "3"
      ]
     },
     "execution_count": 2,
     "metadata": {},
     "output_type": "execute_result"
    }
   ],
   "source": [
    "(+ 1 2)"
   ]
  },
  {
   "cell_type": "code",
   "execution_count": 3,
   "metadata": {},
   "outputs": [
    {
     "data": {
      "text/plain": [
       "0"
      ]
     },
     "execution_count": 3,
     "metadata": {},
     "output_type": "execute_result"
    }
   ],
   "source": [
    "(+ 1 (- 2 3))"
   ]
  },
  {
   "cell_type": "code",
   "execution_count": 4,
   "metadata": {},
   "outputs": [
    {
     "data": {
      "text/plain": [
       "15"
      ]
     },
     "execution_count": 4,
     "metadata": {},
     "output_type": "execute_result"
    }
   ],
   "source": [
    "(* 1 3 (+ 2 3))"
   ]
  },
  {
   "cell_type": "markdown",
   "metadata": {},
   "source": [
    "#### Example of simple game with (loop ...) contruction"
   ]
  },
  {
   "cell_type": "code",
   "execution_count": 1,
   "metadata": {},
   "outputs": [
    {
     "name": "stdout",
     "output_type": "stream",
     "text": [
      "colors?\n",
      "First color\n",
      "Second color\n",
      "Correct at positions\n",
      "Continue ?\n"
     ]
    },
    {
     "name": "stdin",
     "output_type": "stream",
     "text": [
      ">>  no\n"
     ]
    }
   ],
   "source": [
    "(def color-1 \"red\")\n",
    "(def color-2 \"blue\")\n",
    "\n",
    "(loop []\n",
    "  (println \"colors?\")\n",
    "  (println \"First color\")\n",
    "  (let [user-color-1 (read-line)]\n",
    "    (println \"Second color\")\n",
    "    (let [user-color-2 (read-line) position 0 correct 0]\n",
    "      (do\n",
    "        (if (= color-1 user-color-1) 1 0)\n",
    "        (if (= color-2 user-color-2) 1 0)\n",
    "        (if (= color-1 user-color-2) 1 0)\n",
    "        (if (= color-2 user-color-1) 1 0)\n",
    "\n",
    "        (println \"Correct at positions\")\n",
    "        (let [correct_positions (+ (if (= color-1 user-color-1) 1 0) (if (= color-2 user-color-2) 1 0))\n",
    "              correct_colors (+ (if (= color-1 user-color-2) 1 0) (if (= color-2 user-color-1) 1 0))]\n",
    "\n",
    "          (println \"Continue ?\")\n",
    "          (let [continue (not= (read-line) \"no\")] (if continue (do (println continue) (recur))))\n",
    "        )\n",
    "      )\n",
    "    )\n",
    "  )\n",
    ")"
   ]
  },
  {
   "cell_type": "code",
   "execution_count": null,
   "metadata": {},
   "outputs": [],
   "source": []
  }
 ],
 "metadata": {
  "kernelspec": {
   "display_name": "Clojure",
   "language": "clojure",
   "name": "clojure"
  },
  "language_info": {
   "file_extension": ".clj",
   "mimetype": "text/x-clojure",
   "name": "clojure",
   "version": "1.8.0"
  }
 },
 "nbformat": 4,
 "nbformat_minor": 2
}
