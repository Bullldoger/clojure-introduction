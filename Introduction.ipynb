{
 "cells": [
  {
   "cell_type": "markdown",
   "metadata": {},
   "source": [
    "# Clojure course"
   ]
  },
  {
   "cell_type": "markdown",
   "metadata": {},
   "source": [
    "# EDN data structure"
   ]
  },
  {
   "cell_type": "markdown",
   "metadata": {},
   "source": [
    "### Link to description of EDN format with examples [https://habr.com/post/178473/][RUS]"
   ]
  },
  {
   "cell_type": "markdown",
   "metadata": {},
   "source": [
    "### EDN home page [https://github.com/edn-format/edn]"
   ]
  },
  {
   "cell_type": "markdown",
   "metadata": {},
   "source": [
    "#### There is example of usage of this data structure notation in \"taxi-team.edn\""
   ]
  },
  {
   "cell_type": "markdown",
   "metadata": {},
   "source": [
    "# Clojure intro"
   ]
  },
  {
   "cell_type": "markdown",
   "metadata": {},
   "source": [
    "#### Simple example of arithmetic operations (Polish notation) [https://en.wikipedia.org/wiki/Polish_notation]"
   ]
  },
  {
   "cell_type": "markdown",
   "metadata": {},
   "source": [
    "Prefix notation\n",
    "Polish notation (PN), also known as normal Polish notation (NPN), Łukasiewicz notation, Warsaw notation, Polish prefix notation or simply prefix notation, is a mathematical notation in which operators precede their operands, in contrast to (the more common) infix notation (in which operators are placed between operands), as well as to reverse Polish notation (RPN, in which operators follow their operands). It does not need any parentheses as long as each operator has a fixed number of operands. The description \"Polish\" refers to the nationality of logician Jan Łukasiewicz, who invented Polish notation in 1924."
   ]
  },
  {
   "cell_type": "markdown",
   "metadata": {},
   "source": [
    "### Lecture 1"
   ]
  },
  {
   "cell_type": "markdown",
   "metadata": {},
   "source": [
    "#### Arithmetic operations"
   ]
  },
  {
   "cell_type": "code",
   "execution_count": 261,
   "metadata": {},
   "outputs": [
    {
     "data": {
      "text/plain": [
       "3"
      ]
     },
     "execution_count": 261,
     "metadata": {},
     "output_type": "execute_result"
    }
   ],
   "source": [
    "(+ 1 2)"
   ]
  },
  {
   "cell_type": "code",
   "execution_count": 262,
   "metadata": {},
   "outputs": [
    {
     "data": {
      "text/plain": [
       "0"
      ]
     },
     "execution_count": 262,
     "metadata": {},
     "output_type": "execute_result"
    }
   ],
   "source": [
    "(+ 1 (- 2 3))"
   ]
  },
  {
   "cell_type": "code",
   "execution_count": 263,
   "metadata": {},
   "outputs": [
    {
     "data": {
      "text/plain": [
       "15"
      ]
     },
     "execution_count": 263,
     "metadata": {},
     "output_type": "execute_result"
    }
   ],
   "source": [
    "(* 1 3 (+ 2 3))"
   ]
  },
  {
   "cell_type": "markdown",
   "metadata": {},
   "source": [
    "#### def and let statements"
   ]
  },
  {
   "cell_type": "markdown",
   "metadata": {},
   "source": [
    "[Long and deep description here](https://clojure.org/reference/special_forms)"
   ]
  },
  {
   "cell_type": "markdown",
   "metadata": {},
   "source": [
    "def - defining the global variable and bind with passed value"
   ]
  },
  {
   "cell_type": "code",
   "execution_count": 264,
   "metadata": {},
   "outputs": [
    {
     "data": {
      "text/plain": [
       "#'user/a"
      ]
     },
     "execution_count": 264,
     "metadata": {},
     "output_type": "execute_result"
    }
   ],
   "source": [
    "(def a 10)"
   ]
  },
  {
   "cell_type": "markdown",
   "metadata": {},
   "source": [
    "let - binding locally variable with value and it binds only in current scope"
   ]
  },
  {
   "cell_type": "code",
   "execution_count": 265,
   "metadata": {},
   "outputs": [
    {
     "name": "stdout",
     "output_type": "stream",
     "text": [
      "1\n"
     ]
    }
   ],
   "source": [
    "(let [b 1] (println b))"
   ]
  },
  {
   "cell_type": "code",
   "execution_count": 266,
   "metadata": {},
   "outputs": [
    {
     "name": "stdout",
     "output_type": "stream",
     "text": [
      "CompilerException java.lang.RuntimeException: Unable to resolve symbol: b in this context, compiling:(null:1:1) \n"
     ]
    },
    {
     "ename": "class clojure.lang.Compiler$CompilerException",
     "evalue": "",
     "execution_count": 266,
     "output_type": "error",
     "status": "error",
     "traceback": [
      "              Util.java:   221 clojure.lang.Util/runtimeException                     ",
      "               core.clj:  3105 clojure.core$eval/invokeStatic                         ",
      "               core.clj:  3101 clojure.core$eval/invoke                               ",
      "               main.clj:   240 clojure.main$repl$read_eval_print__7408$fn__7411/invoke",
      "               main.clj:   258 clojure.main$repl$fn__7417/invoke                      ",
      "               main.clj:   174 clojure.main$repl/doInvoke                             ",
      "            RestFn.java:  1523 clojure.lang.RestFn/invoke                             ",
      "               AFn.java:   152 clojure.lang.AFn/applyToHelper                         ",
      "               AFn.java:   144 clojure.lang.AFn/applyTo                               ",
      "               core.clj:   646 clojure.core$apply/invokeStatic                        ",
      "               core.clj:  1881 clojure.core$with_bindings_STAR_/invokeStatic          ",
      "            RestFn.java:   425 clojure.lang.RestFn/invoke                             ",
      "               AFn.java:    22 clojure.lang.AFn/run                                   ",
      "ThreadPoolExecutor.java:  1135 java.util.concurrent.ThreadPoolExecutor/runWorker      ",
      "ThreadPoolExecutor.java:   635 java.util.concurrent.ThreadPoolExecutor$Worker/run     ",
      "            Thread.java:   844 java.lang.Thread/run                                   "
     ]
    }
   ],
   "source": [
    "(println b)"
   ]
  },
  {
   "cell_type": "code",
   "execution_count": 267,
   "metadata": {},
   "outputs": [
    {
     "name": "stdout",
     "output_type": "stream",
     "text": [
      "1\n",
      "10\n"
     ]
    }
   ],
   "source": [
    "(let [b 1 c 10] (println b) (println c))"
   ]
  },
  {
   "cell_type": "markdown",
   "metadata": {},
   "source": [
    "Not recommended(!!!)"
   ]
  },
  {
   "cell_type": "code",
   "execution_count": 268,
   "metadata": {},
   "outputs": [
    {
     "data": {
      "text/plain": [
       "15"
      ]
     },
     "execution_count": 268,
     "metadata": {},
     "output_type": "execute_result"
    }
   ],
   "source": [
    "(def a (+ 1 2 2 a))\n",
    "a"
   ]
  },
  {
   "cell_type": "markdown",
   "metadata": {},
   "source": [
    "#### print statement (side effect demostration)"
   ]
  },
  {
   "cell_type": "code",
   "execution_count": 230,
   "metadata": {},
   "outputs": [
    {
     "name": "stdout",
     "output_type": "stream",
     "text": [
      "Hello world\n"
     ]
    }
   ],
   "source": [
    "(println \"Hello world\")"
   ]
  },
  {
   "cell_type": "code",
   "execution_count": 271,
   "metadata": {},
   "outputs": [
    {
     "name": "stdout",
     "output_type": "stream",
     "text": [
      "let-statement\n",
      "nil\n"
     ]
    }
   ],
   "source": [
    "(let [a (println \"let-statement\")] (println a))"
   ]
  },
  {
   "cell_type": "markdown",
   "metadata": {},
   "source": [
    "#### if statement"
   ]
  },
  {
   "cell_type": "code",
   "execution_count": 232,
   "metadata": {},
   "outputs": [
    {
     "data": {
      "text/plain": [
       "0"
      ]
     },
     "execution_count": 232,
     "metadata": {},
     "output_type": "execute_result"
    }
   ],
   "source": [
    "(if true 0 1)"
   ]
  },
  {
   "cell_type": "code",
   "execution_count": 233,
   "metadata": {},
   "outputs": [
    {
     "data": {
      "text/plain": [
       "1"
      ]
     },
     "execution_count": 233,
     "metadata": {},
     "output_type": "execute_result"
    }
   ],
   "source": [
    "(if (= 1 1) 1 0)"
   ]
  },
  {
   "cell_type": "code",
   "execution_count": 270,
   "metadata": {},
   "outputs": [
    {
     "name": "stdout",
     "output_type": "stream",
     "text": [
      "Hello World"
     ]
    }
   ],
   "source": [
    "(if true (do (print \"Hello \") (print \"World\")))"
   ]
  },
  {
   "cell_type": "code",
   "execution_count": 235,
   "metadata": {},
   "outputs": [
    {
     "data": {
      "text/plain": [
       "true"
      ]
     },
     "execution_count": 235,
     "metadata": {},
     "output_type": "execute_result"
    }
   ],
   "source": [
    "(if true (do (if (= false false) true false)))"
   ]
  },
  {
   "cell_type": "markdown",
   "metadata": {},
   "source": [
    "#### Example of simple game with (loop ...) contruction"
   ]
  },
  {
   "cell_type": "code",
   "execution_count": 1,
   "metadata": {},
   "outputs": [
    {
     "name": "stdout",
     "output_type": "stream",
     "text": [
      "colors?\n",
      "First color\n",
      "Second color\n",
      "Correct at positions\n",
      "Continue ?\n"
     ]
    },
    {
     "name": "stdin",
     "output_type": "stream",
     "text": [
      ">>  no\n"
     ]
    }
   ],
   "source": [
    "(def color-1 \"red\")\n",
    "(def color-2 \"blue\")\n",
    "\n",
    "(loop []\n",
    "  (println \"colors?\")\n",
    "  (println \"First color\")\n",
    "  (let [user-color-1 (read-line)]\n",
    "    (println \"Second color\")\n",
    "    (let [user-color-2 (read-line) position 0 correct 0]\n",
    "      (do\n",
    "        (if (= color-1 user-color-1) 1 0)\n",
    "        (if (= color-2 user-color-2) 1 0)\n",
    "        (if (= color-1 user-color-2) 1 0)\n",
    "        (if (= color-2 user-color-1) 1 0)\n",
    "\n",
    "        (println \"Correct at positions\")\n",
    "        (let [correct_positions (+ (if (= color-1 user-color-1) 1 0) (if (= color-2 user-color-2) 1 0))\n",
    "              correct_colors (+ (if (= color-1 user-color-2) 1 0) (if (= color-2 user-color-1) 1 0))]\n",
    "\n",
    "          (println \"Continue ?\")\n",
    "          (let [continue (not= (read-line) \"no\")] (if continue (do (println continue) (recur))))\n",
    "        )\n",
    "      )\n",
    "    )\n",
    "  )\n",
    ")"
   ]
  },
  {
   "cell_type": "markdown",
   "metadata": {},
   "source": [
    "### Lecture 2"
   ]
  },
  {
   "cell_type": "markdown",
   "metadata": {},
   "source": [
    "Q&A session"
   ]
  },
  {
   "cell_type": "code",
   "execution_count": 236,
   "metadata": {},
   "outputs": [
    {
     "data": {
      "text/plain": [
       "1"
      ]
     },
     "execution_count": 236,
     "metadata": {},
     "output_type": "execute_result"
    }
   ],
   "source": [
    "((first [first second]) [1 2])"
   ]
  },
  {
   "cell_type": "code",
   "execution_count": 237,
   "metadata": {},
   "outputs": [
    {
     "name": "stdout",
     "output_type": "stream",
     "text": [
      "CompilerException java.lang.RuntimeException: Can't take value of a macro: #'clojure.core/and, compiling:(null:1:2) \n"
     ]
    },
    {
     "ename": "class clojure.lang.Compiler$CompilerException",
     "evalue": "",
     "execution_count": 237,
     "output_type": "error",
     "status": "error",
     "traceback": [
      "              Util.java:   221 clojure.lang.Util/runtimeException                     ",
      "               core.clj:  3105 clojure.core$eval/invokeStatic                         ",
      "               core.clj:  3101 clojure.core$eval/invoke                               ",
      "               main.clj:   240 clojure.main$repl$read_eval_print__7408$fn__7411/invoke",
      "               main.clj:   258 clojure.main$repl$fn__7417/invoke                      ",
      "               main.clj:   174 clojure.main$repl/doInvoke                             ",
      "            RestFn.java:  1523 clojure.lang.RestFn/invoke                             ",
      "               AFn.java:   152 clojure.lang.AFn/applyToHelper                         ",
      "               AFn.java:   144 clojure.lang.AFn/applyTo                               ",
      "               core.clj:   646 clojure.core$apply/invokeStatic                        ",
      "               core.clj:  1881 clojure.core$with_bindings_STAR_/invokeStatic          ",
      "            RestFn.java:   425 clojure.lang.RestFn/invoke                             ",
      "               AFn.java:    22 clojure.lang.AFn/run                                   ",
      "ThreadPoolExecutor.java:  1135 java.util.concurrent.ThreadPoolExecutor/runWorker      ",
      "ThreadPoolExecutor.java:   635 java.util.concurrent.ThreadPoolExecutor$Worker/run     ",
      "            Thread.java:   844 java.lang.Thread/run                                   "
     ]
    }
   ],
   "source": [
    "((or and or) (println \"First\") (println \"Second\"))"
   ]
  },
  {
   "cell_type": "code",
   "execution_count": 238,
   "metadata": {},
   "outputs": [
    {
     "name": "stdout",
     "output_type": "stream",
     "text": [
      "First\n"
     ]
    }
   ],
   "source": [
    "(if (< (rand) 0.5) (println \"First\") (println \"Second\"))"
   ]
  },
  {
   "cell_type": "code",
   "execution_count": 239,
   "metadata": {},
   "outputs": [
    {
     "data": {
      "text/plain": [
       "13"
      ]
     },
     "execution_count": 239,
     "metadata": {},
     "output_type": "execute_result"
    }
   ],
   "source": [
    "((or + -) 1 12)"
   ]
  },
  {
   "cell_type": "code",
   "execution_count": 240,
   "metadata": {},
   "outputs": [
    {
     "name": "stdout",
     "output_type": "stream",
     "text": [
      "First\n",
      "Second\n",
      "Third\n"
     ]
    }
   ],
   "source": [
    "(rand-nth [(println \"First\") (println \"Second\") (println \"Third\")])"
   ]
  },
  {
   "cell_type": "markdown",
   "metadata": {},
   "source": [
    "<hr>"
   ]
  },
  {
   "cell_type": "markdown",
   "metadata": {},
   "source": [
    "#### Random operators"
   ]
  },
  {
   "cell_type": "markdown",
   "metadata": {},
   "source": [
    "rand-nth - random choise from collection <br>\n",
    "rand-int <upper-bound> - generate integer value from 0 to <upper-bound> - 1 <br>\n",
    "rand - generate random floating point value from 0 to 1, not include 1"
   ]
  },
  {
   "cell_type": "markdown",
   "metadata": {},
   "source": [
    "<hr>"
   ]
  },
  {
   "cell_type": "code",
   "execution_count": 241,
   "metadata": {},
   "outputs": [
    {
     "data": {
      "text/plain": [
       "5"
      ]
     },
     "execution_count": 241,
     "metadata": {},
     "output_type": "execute_result"
    }
   ],
   "source": [
    "(rand-nth [1 2 3 4 5])"
   ]
  },
  {
   "cell_type": "markdown",
   "metadata": {},
   "source": [
    "Apply random arithmetic operator to collection of numbers"
   ]
  },
  {
   "cell_type": "code",
   "execution_count": 242,
   "metadata": {},
   "outputs": [
    {
     "data": {
      "text/plain": [
       "-4"
      ]
     },
     "execution_count": 242,
     "metadata": {},
     "output_type": "execute_result"
    }
   ],
   "source": [
    "((rand-nth [+ - / *]) 1 2 3)"
   ]
  },
  {
   "cell_type": "code",
   "execution_count": 243,
   "metadata": {},
   "outputs": [
    {
     "data": {
      "text/plain": [
       "0.9321679009123909"
      ]
     },
     "execution_count": 243,
     "metadata": {},
     "output_type": "execute_result"
    }
   ],
   "source": [
    "(rand)"
   ]
  },
  {
   "cell_type": "code",
   "execution_count": 244,
   "metadata": {},
   "outputs": [
    {
     "data": {
      "text/plain": [
       "6"
      ]
     },
     "execution_count": 244,
     "metadata": {},
     "output_type": "execute_result"
    }
   ],
   "source": [
    "(rand-int 12)"
   ]
  },
  {
   "cell_type": "markdown",
   "metadata": {},
   "source": [
    "<hr>"
   ]
  },
  {
   "cell_type": "markdown",
   "metadata": {},
   "source": [
    "<strong> macroexpand operator[https://cljs.github.io/api/cljs.core/macroexpand] </strong>"
   ]
  },
  {
   "cell_type": "markdown",
   "metadata": {},
   "source": [
    "<hr>"
   ]
  },
  {
   "cell_type": "code",
   "execution_count": 245,
   "metadata": {},
   "outputs": [
    {
     "data": {
      "text/plain": [
       "15"
      ]
     },
     "execution_count": 245,
     "metadata": {},
     "output_type": "execute_result"
    }
   ],
   "source": [
    "a"
   ]
  },
  {
   "cell_type": "code",
   "execution_count": 246,
   "metadata": {},
   "outputs": [
    {
     "data": {
      "text/plain": [
       "48"
      ]
     },
     "execution_count": 246,
     "metadata": {},
     "output_type": "execute_result"
    }
   ],
   "source": [
    "(-> a (+ 1) (* 3))"
   ]
  },
  {
   "cell_type": "markdown",
   "metadata": {},
   "source": [
    "Convinient for pipelines defining and using"
   ]
  },
  {
   "cell_type": "code",
   "execution_count": 255,
   "metadata": {},
   "outputs": [
    {
     "data": {
      "text/plain": [
       "(* (+ a 1) 2)"
      ]
     },
     "execution_count": 255,
     "metadata": {},
     "output_type": "execute_result"
    }
   ],
   "source": [
    "(macroexpand '(-> a (+ 1) (* 2)))"
   ]
  },
  {
   "cell_type": "code",
   "execution_count": 256,
   "metadata": {},
   "outputs": [
    {
     "data": {
      "text/plain": [
       "(+ (* (+ a 1) 2) 12)"
      ]
     },
     "execution_count": 256,
     "metadata": {},
     "output_type": "execute_result"
    }
   ],
   "source": [
    "(macroexpand '(-> a (+ 1) (* 2) (+ 12)))"
   ]
  },
  {
   "cell_type": "code",
   "execution_count": 257,
   "metadata": {},
   "outputs": [
    {
     "data": {
      "text/plain": [
       "-1"
      ]
     },
     "execution_count": 257,
     "metadata": {},
     "output_type": "execute_result"
    }
   ],
   "source": [
    "(as-> 0 var (+ var 4) (- var 5))"
   ]
  },
  {
   "cell_type": "code",
   "execution_count": 258,
   "metadata": {},
   "outputs": [
    {
     "data": {
      "text/plain": [
       "75"
      ]
     },
     "execution_count": 258,
     "metadata": {},
     "output_type": "execute_result"
    }
   ],
   "source": [
    "(as-> 20 var (* var 4) (- var 5))"
   ]
  },
  {
   "cell_type": "markdown",
   "metadata": {},
   "source": [
    "### Lecture 3"
   ]
  },
  {
   "cell_type": "markdown",
   "metadata": {},
   "source": [
    "#### Teylor series for exp(x)"
   ]
  },
  {
   "cell_type": "code",
   "execution_count": 251,
   "metadata": {},
   "outputs": [
    {
     "data": {
      "text/plain": [
       "#'user/exp-series"
      ]
     },
     "execution_count": 251,
     "metadata": {},
     "output_type": "execute_result"
    }
   ],
   "source": [
    "(defn factorial [arg]  (reduce * (range 1 arg)))\n",
    "(defn power [arg1 arg2] (reduce * (take (- arg2 1) (repeat arg1))))\n",
    "(defn addition [x, n] (/ (power x n) (factorial n)))\n",
    "(defn exp-series [x, addition-count] (reduce + (map (def series (partial addition x)) (range 1 addition-count))))"
   ]
  },
  {
   "cell_type": "code",
   "execution_count": 252,
   "metadata": {},
   "outputs": [
    {
     "data": {
      "text/plain": [
       "5.0"
      ]
     },
     "execution_count": 252,
     "metadata": {},
     "output_type": "execute_result"
    }
   ],
   "source": [
    "(float (exp-series 2 4))"
   ]
  },
  {
   "cell_type": "markdown",
   "metadata": {},
   "source": [
    "#### Master MIND (unlim colors)"
   ]
  },
  {
   "cell_type": "code",
   "execution_count": 13,
   "metadata": {},
   "outputs": [
    {
     "data": {
      "text/plain": [
       "#'user/colors-seq"
      ]
     },
     "execution_count": 13,
     "metadata": {},
     "output_type": "execute_result"
    }
   ],
   "source": [
    "(def colors-seq [\"red\" \"blue\" \"blue\" \"green\"])"
   ]
  },
  {
   "cell_type": "code",
   "execution_count": 14,
   "metadata": {},
   "outputs": [
    {
     "data": {
      "text/plain": [
       "#'user/check-positions"
      ]
     },
     "execution_count": 14,
     "metadata": {},
     "output_type": "execute_result"
    }
   ],
   "source": [
    "(defn check-positions [colors user-colors result] (if (not-empty colors) (do (if (= (first colors) (first user-colors))\n",
    "                                                      (check-positions (rest colors) (rest user-colors) (+ result 1))\n",
    "                                                      (check-positions (rest colors) (rest user-colors) result))) result))"
   ]
  },
  {
   "cell_type": "code",
   "execution_count": 15,
   "metadata": {},
   "outputs": [
    {
     "name": "stdout",
     "output_type": "stream",
     "text": [
      "Enter number of colors\n"
     ]
    },
    {
     "name": "stdin",
     "output_type": "stream",
     "text": [
      ">>  3\n"
     ]
    },
    {
     "name": "stdout",
     "output_type": "stream",
     "text": [
      "Cheat (magenta black magenta)\n",
      "Choose  3  colors from the list:  [white red green blue cyan magenta yellow black]\n",
      "Attemp 1\n"
     ]
    },
    {
     "name": "stdin",
     "output_type": "stream",
     "text": [
      ">>  white\n",
      ">>  red\n",
      ">>  green\n"
     ]
    },
    {
     "name": "stdout",
     "output_type": "stream",
     "text": [
      "Ordered matches:  0\n",
      "Unordered matches:  0\n",
      "Attemp 2\n"
     ]
    },
    {
     "name": "stdin",
     "output_type": "stream",
     "text": [
      ">>  magenta\n",
      ">>  blacl\n",
      ">>  magenta\n"
     ]
    },
    {
     "name": "stdout",
     "output_type": "stream",
     "text": [
      "Ordered matches:  2\n",
      "Unordered matches:  2\n",
      "Attemp 3\n"
     ]
    },
    {
     "name": "stdin",
     "output_type": "stream",
     "text": [
      ">>  magenta\n",
      ">>  black\n",
      ">>  magenta\n"
     ]
    },
    {
     "name": "stdout",
     "output_type": "stream",
     "text": [
      "Ordered matches:  3\n",
      "Unordered matches:  3\n",
      "Good Job!\n"
     ]
    }
   ],
   "source": [
    "(def available-colors [\"white\" \"red\" \"green\" \"blue\"\n",
    "                       \"cyan\" \"magenta\" \"yellow\" \"black\" ])\n",
    "\n",
    "(defn in? [coll elm] (some #(= elm %coll))\n",
    "(defn check-colors [colors-set user-colors result] \n",
    "    (if (not-empty user-colors) (if (in? colors-set (first user-colors))\n",
    "                                        (check-colors colors-set (rest user-colors) (+ result 1))\n",
    "                                        (check-colors colors-set (rest user-colors) result))\n",
    "        result))\n",
    "\n",
    "        \n",
    "(println \"Enter number of colors\") \n",
    "(def n-colors (Integer/parseInt (read-line)))\n",
    "(def colors-set (take n-colors (repeatedly #(rand-nth available-colors))))\n",
    "\n",
    "(println \"Cheat\" colors-set) ;cheat!\n",
    "(println \"Choose \" n-colors \" colors from the list: \" available-colors)\n",
    "\n",
    "(loop [attemp 1]\n",
    "    (println \"Attemp\" attemp)\n",
    "    (def user-colors (reduce conj [] (take n-colors (repeatedly read-line))))\n",
    "    (let [n-ordered (check-positions colors-set user-colors 0)\n",
    "          n-unordered (check-colors colors-set user-colors 0)] \n",
    "    (println \"Ordered matches: \" n-ordered)\n",
    "    (println \"Unordered matches: \" n-unordered)\n",
    "    (if (or (not= n-ordered n-colors) (not= n-unordered n-colors)) (recur (inc attemp)))))\n",
    "\n",
    "(println \"Good Job!\")"
   ]
  },
  {
   "cell_type": "markdown",
   "metadata": {},
   "source": [
    "## TAXI TEAM"
   ]
  },
  {
   "cell_type": "code",
   "execution_count": 1,
   "metadata": {},
   "outputs": [],
   "source": [
    "(require '[clojure.java.io :as io] '[clojure.edn :as edn])"
   ]
  },
  {
   "cell_type": "code",
   "execution_count": 2,
   "metadata": {},
   "outputs": [
    {
     "data": {
      "text/plain": [
       "#'user/load-edn"
      ]
     },
     "execution_count": 2,
     "metadata": {},
     "output_type": "execute_result"
    }
   ],
   "source": [
    "(defn load-edn\n",
    "  \"Load edn from an io/reader source (filename or io/resource).\"\n",
    "  [source]\n",
    "  (try\n",
    "    (with-open [r (io/reader source)]\n",
    "      (edn/read (java.io.PushbackReader. r)))\n",
    "\n",
    "    (catch java.io.IOException e\n",
    "      (printf \"Couldn't open '%s': %s\\n\" source (.getMessage e)))\n",
    "    (catch RuntimeException e\n",
    "      (printf \"Error parsing edn file '%s': %s\\n\" source (.getMessage e)))))"
   ]
  },
  {
   "cell_type": "code",
   "execution_count": 3,
   "metadata": {},
   "outputs": [
    {
     "data": {
      "text/plain": [
       "#'user/read-file"
      ]
     },
     "execution_count": 3,
     "metadata": {},
     "output_type": "execute_result"
    }
   ],
   "source": [
    "(defn read-file [file-name] (let [readed (load-edn file-name)]\n",
    "    (loop [counter (dec (count readed)) taxi-list []]\n",
    "        (if (not (< counter 0)) \n",
    "            (do\n",
    "                (recur (dec counter) (conj taxi-list (atom (nth readed counter))))) taxi-list)\n",
    "        )\n",
    "))"
   ]
  },
  {
   "cell_type": "code",
   "execution_count": 77,
   "metadata": {},
   "outputs": [
    {
     "data": {
      "text/plain": [
       "#'user/taxi-park"
      ]
     },
     "execution_count": 77,
     "metadata": {},
     "output_type": "execute_result"
    }
   ],
   "source": [
    "(def current-taxi (atom nil))\n",
    "(def taxi-park (read-file \"src/skoltaxi.edn\"))"
   ]
  },
  {
   "cell_type": "code",
   "execution_count": 86,
   "metadata": {},
   "outputs": [
    {
     "data": {
      "text/plain": [
       "[#atom[{:id 4, :passengers 1, :from :Vorobyevy-Gory, :to :Spartak, :time \"15.30\", :cost 100, :messages [], :capacity 2} 0x61bd4eaa] #atom[{:id 3, :passengers 1, :from :Vorobyevy-Gory, :to :Spartak, :time \"15.30\", :cost 100, :messages [], :capacity 2} 0x43f18379] #atom[{:id 2, :passengers 1, :from :Vorobyevy-Gory, :to :Spartak, :time \"15.30\", :cost 100, :messages [], :capacity 2} 0x214ee632] #atom[{:id 1, :passengers 1, :from :Vorobyevy-Gory, :to :Spartak, :time \"15.30\", :cost 100, :messages [], :capacity 2} 0x3e7a0728]]"
      ]
     },
     "execution_count": 86,
     "metadata": {},
     "output_type": "execute_result"
    }
   ],
   "source": [
    "taxi-park"
   ]
  },
  {
   "cell_type": "code",
   "execution_count": 68,
   "metadata": {},
   "outputs": [
    {
     "data": {
      "text/plain": [
       "#'user/generate-id"
      ]
     },
     "execution_count": 68,
     "metadata": {},
     "output_type": "execute_result"
    }
   ],
   "source": [
    "(defn generate-id []\n",
    "  (loop [ids (set '()) counter (dec (count taxi-park))] \n",
    "    (if (> counter 0) (do (let [current-id (get (nth taxi-park counter) :id)] \n",
    "                            (recur (conj ids current-id) (dec counter)))) \n",
    "        (loop [new-id (rand-int 100)] (if (contains? ids new-id) (do (println new-id) (recur (rand-int 100))) new-id))\n",
    "    )\n",
    "  )\n",
    ")"
   ]
  },
  {
   "cell_type": "code",
   "execution_count": 104,
   "metadata": {},
   "outputs": [
    {
     "data": {
      "text/plain": [
       "#'user/get-taxi-car"
      ]
     },
     "execution_count": 104,
     "metadata": {},
     "output_type": "execute_result"
    }
   ],
   "source": [
    "(defn get-taxi-car [id] \n",
    "    (loop [counter (dec (count taxi-park))]\n",
    "      (let [taxi (nth taxi-park counter) taxi-id (get @taxi :id)]\n",
    "            (if (not (= counter 0)) \n",
    "              (if (= id taxi-id) taxi (recur (dec counter)))\n",
    "              nil\n",
    "        )\n",
    "      )\n",
    "    ))"
   ]
  },
  {
   "cell_type": "code",
   "execution_count": 106,
   "metadata": {},
   "outputs": [],
   "source": [
    "(get-taxi-car 30)"
   ]
  },
  {
   "cell_type": "code",
   "execution_count": 89,
   "metadata": {},
   "outputs": [
    {
     "data": {
      "text/plain": [
       "34"
      ]
     },
     "execution_count": 89,
     "metadata": {},
     "output_type": "execute_result"
    }
   ],
   "source": [
    "(generate-id )"
   ]
  },
  {
   "cell_type": "code",
   "execution_count": 43,
   "metadata": {},
   "outputs": [
    {
     "data": {
      "text/plain": [
       "#'user/create-taxi"
      ]
     },
     "execution_count": 43,
     "metadata": {},
     "output_type": "execute_result"
    }
   ],
   "source": [
    "(defn create-taxi [& {:keys [passengers from to time cost messages] \n",
    "                      :or {passengers 0, from nil, to nil, time nil, cost nil, messages []}}] \n",
    "    (let [taxi \n",
    "          { \n",
    "            :passengers passengers, \n",
    "            :from from, \n",
    "            :to to, \n",
    "            :time time, \n",
    "            :cost cost,\n",
    "            :messages messages}\n",
    "          ] (conj taxi-park taxi), (reset! current-taxi taxi), taxi))"
   ]
  },
  {
   "cell_type": "code",
   "execution_count": 50,
   "metadata": {},
   "outputs": [
    {
     "data": {
      "text/plain": [
       "{:passengers 0, :from nil, :to nil, :time nil, :cost nil, :messages []}"
      ]
     },
     "execution_count": 50,
     "metadata": {},
     "output_type": "execute_result"
    }
   ],
   "source": [
    "(create-taxi )"
   ]
  },
  {
   "cell_type": "code",
   "execution_count": 53,
   "metadata": {},
   "outputs": [
    {
     "name": "stdout",
     "output_type": "stream",
     "text": [
      "CompilerException java.lang.RuntimeException: Unable to resolve symbol: apply-patch in this context, compiling:(null:2:5) \n"
     ]
    },
    {
     "ename": "class clojure.lang.Compiler$CompilerException",
     "evalue": "",
     "execution_count": 53,
     "output_type": "error",
     "status": "error",
     "traceback": [
      "              Util.java:   221 clojure.lang.Util/runtimeException                     ",
      "               core.clj:  3105 clojure.core$eval/invokeStatic                         ",
      "               core.clj:  3101 clojure.core$eval/invoke                               ",
      "               main.clj:   240 clojure.main$repl$read_eval_print__7408$fn__7411/invoke",
      "               main.clj:   258 clojure.main$repl$fn__7417/invoke                      ",
      "               main.clj:   174 clojure.main$repl/doInvoke                             ",
      "            RestFn.java:  1523 clojure.lang.RestFn/invoke                             ",
      "               AFn.java:   152 clojure.lang.AFn/applyToHelper                         ",
      "               AFn.java:   144 clojure.lang.AFn/applyTo                               ",
      "               core.clj:   646 clojure.core$apply/invokeStatic                        ",
      "               core.clj:  1881 clojure.core$with_bindings_STAR_/invokeStatic          ",
      "            RestFn.java:   425 clojure.lang.RestFn/invoke                             ",
      "               AFn.java:    22 clojure.lang.AFn/run                                   ",
      "ThreadPoolExecutor.java:  1149 java.util.concurrent.ThreadPoolExecutor/runWorker      ",
      "ThreadPoolExecutor.java:   624 java.util.concurrent.ThreadPoolExecutor$Worker/run     ",
      "            Thread.java:   748 java.lang.Thread/run                                   "
     ]
    }
   ],
   "source": [
    "(defn post-message [message & {:keys [taxi] :or {taxi @current-taxi}}] \n",
    "    (swap! current-taxi apply-patch {:type :post :path [:messages] :value message} taxi)\n",
    "    )"
   ]
  },
  {
   "cell_type": "code",
   "execution_count": 44,
   "metadata": {},
   "outputs": [
    {
     "data": {
      "text/plain": [
       "{:passengers 2, :from nil, :to nil, :time nil, :cost 3, :messages []}"
      ]
     },
     "execution_count": 44,
     "metadata": {},
     "output_type": "execute_result"
    }
   ],
   "source": [
    "(create-taxi :passengers 2 :cost 3)"
   ]
  },
  {
   "cell_type": "code",
   "execution_count": null,
   "metadata": {},
   "outputs": [],
   "source": []
  }
 ],
 "metadata": {
  "kernelspec": {
   "display_name": "Clojure",
   "language": "clojure",
   "name": "clojure"
  },
  "language_info": {
   "file_extension": ".clj",
   "mimetype": "text/x-clojure",
   "name": "clojure",
   "version": "1.8.0"
  }
 },
 "nbformat": 4,
 "nbformat_minor": 2
}
